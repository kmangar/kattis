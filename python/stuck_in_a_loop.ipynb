{
  "metadata": {
    "language_info": {
      "codemirror_mode": {
        "name": "python",
        "version": 3
      },
      "file_extension": ".py",
      "mimetype": "text/x-python",
      "name": "python",
      "nbconvert_exporter": "python",
      "pygments_lexer": "ipython3",
      "version": "3.8"
    },
    "kernelspec": {
      "name": "python",
      "display_name": "Pyolite",
      "language": "python"
    }
  },
  "nbformat_minor": 4,
  "nbformat": 4,
  "cells": [
    {
      "cell_type": "code",
      "source": "\n\n\n\n\n\n\n",
      "metadata": {},
      "execution_count": null,
      "outputs": []
    },
    {
      "cell_type": "code",
      "source": "",
      "metadata": {},
      "execution_count": null,
      "outputs": []
    },
    {
      "cell_type": "code",
      "source": "def funct(a):\n    \n    # k = 0 \n    # while k < a:\n    #     if a < 101 and a > 0:\n    #         k += 1\n    #         print(f\"{k} Abracadabra\")\n            \n    for x in range(0, a):\n        if a < 101 and a > 0:\n            x += 1\n            print(f\"{x} Abracadabra\")\n            \n\nn = int(input(\"\"))\n\nfunct(n)",
      "metadata": {},
      "execution_count": null,
      "outputs": []
    }
  ]
}
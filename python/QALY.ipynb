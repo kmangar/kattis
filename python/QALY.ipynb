{
 "cells": [
  {
   "cell_type": "markdown",
   "metadata": {},
   "source": [
    "# Kattis: Quality-Adjusted Life-Year\n",
    "https://open.kattis.com/problems/qaly"
   ]
  },
  {
   "cell_type": "code",
   "execution_count": 8,
   "metadata": {},
   "outputs": [
    {
     "name": "stdout",
     "output_type": "stream",
     "text": [
      "5\n",
      "1 12\n",
      ".7 5.2\n",
      ".9 10.7\n",
      ".5 20.4 \n",
      ".2 30\n",
      "41.47\n"
     ]
    }
   ],
   "source": [
    "ans = 0\n",
    "for i in range(int(input())):\n",
    "    q,y = map(float, input().split())\n",
    "    if((0 < q <= 1) and  (0<y <= 100)):\n",
    "        ans += q*y\n",
    "print(ans)"
   ]
  }
 ],
 "metadata": {
  "kernelspec": {
   "display_name": "Python 3",
   "language": "python",
   "name": "python3"
  },
  "language_info": {
   "codemirror_mode": {
    "name": "ipython",
    "version": 3
   },
   "file_extension": ".py",
   "mimetype": "text/x-python",
   "name": "python",
   "nbconvert_exporter": "python",
   "pygments_lexer": "ipython3",
   "version": "3.7.6"
  }
 },
 "nbformat": 4,
 "nbformat_minor": 4
}
